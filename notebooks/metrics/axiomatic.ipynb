{
 "cells": [
  {
   "cell_type": "code",
   "execution_count": 1,
   "metadata": {},
   "outputs": [],
   "source": [
    "%load_ext autoreload\n",
    "%autoreload 2\n",
    "\n",
    "import sys\n",
    "sys.path.append('../../src')"
   ]
  },
  {
   "cell_type": "code",
   "execution_count": 2,
   "metadata": {
    "collapsed": false
   },
   "outputs": [
    {
     "name": "stderr",
     "output_type": "stream",
     "text": [
      "/home/aletheia/.virtualenvs/torchxai/lib/python3.10/site-packages/tqdm/auto.py:21: TqdmWarning: IProgress not found. Please update jupyter and ipywidgets. See https://ipywidgets.readthedocs.io/en/stable/user_install.html\n",
      "  from .autonotebook import tqdm as notebook_tqdm\n",
      "/home/aletheia/.virtualenvs/torchxai/lib/python3.10/site-packages/torch/cuda/__init__.py:118: UserWarning: CUDA initialization: CUDA unknown error - this may be due to an incorrectly set up environment, e.g. changing env variable CUDA_VISIBLE_DEVICES after program start. Setting the available devices to be zero. (Triggered internally at ../c10/cuda/CUDAFunctions.cpp:108.)\n",
      "  return torch._C._cuda_getDeviceCount() > 0\n"
     ]
    },
    {
     "data": {
      "text/plain": [
       "device(type='cpu')"
      ]
     },
     "execution_count": 2,
     "metadata": {},
     "output_type": "execute_result"
    }
   ],
   "source": [
    "import torch\n",
    "import torchvision\n",
    "\n",
    "# Choose hardware acceleration if available\n",
    "def choose_device() -> str:\n",
    "    if torch.cuda.is_available():\n",
    "        return \"cuda:0\"\n",
    "    if hasattr(torch.backends, \"mps\"):\n",
    "        if torch.backends.mps.is_available():\n",
    "            return \"mps\"\n",
    "    return \"cpu\"\n",
    "\n",
    "\n",
    "device = torch.device(choose_device())\n",
    "device"
   ]
  },
  {
   "cell_type": "code",
   "execution_count": 3,
   "metadata": {
    "colab": {
     "base_uri": "https://localhost:8080/"
    },
    "executionInfo": {
     "elapsed": 2,
     "status": "ok",
     "timestamp": 1665166640500,
     "user": {
      "displayName": "Anna Hedström",
      "userId": "05540180366077551505"
     },
     "user_tz": -120
    },
    "id": "g_uHdc9Pg2ra",
    "outputId": "0e0512f8-2c0c-4031-eec8-d27d309c2430"
   },
   "outputs": [
    {
     "name": "stdout",
     "output_type": "stream",
     "text": [
      "17 matches found.\n"
     ]
    }
   ],
   "source": [
    "# Adjust this path.\n",
    "path_to_files = \"../assets/imagenet\"\n",
    "\n",
    "# Load test data and make loaders.\n",
    "x_batch = torch.load(f'{path_to_files}/x_batch.pt')\n",
    "s_batch = torch.load(f'{path_to_files}/s_batch.pt')\n",
    "x_batch, s_batch = x_batch.to(device), s_batch.to(device)\n",
    "print(f\"{len(x_batch)} matches found.\")"
   ]
  },
  {
   "cell_type": "code",
   "execution_count": 4,
   "metadata": {
    "colab": {
     "base_uri": "https://localhost:8080/"
    },
    "executionInfo": {
     "elapsed": 464,
     "status": "ok",
     "timestamp": 1665166038760,
     "user": {
      "displayName": "Anna Hedström",
      "userId": "05540180366077551505"
     },
     "user_tz": -120
    },
    "id": "s5jVhWiPPnlW",
    "outputId": "4651ea83-d8c2-4283-e9c8-0c8f714fe650"
   },
   "outputs": [
    {
     "name": "stderr",
     "output_type": "stream",
     "text": [
      "/home/aletheia/.virtualenvs/torchxai/lib/python3.10/site-packages/torchvision/models/_utils.py:208: UserWarning: The parameter 'pretrained' is deprecated since 0.13 and may be removed in the future, please use 'weights' instead.\n",
      "  warnings.warn(\n",
      "/home/aletheia/.virtualenvs/torchxai/lib/python3.10/site-packages/torchvision/models/_utils.py:223: UserWarning: Arguments other than a weight enum or `None` for 'weights' are deprecated since 0.13 and may be removed in the future. The current behavior is equivalent to passing `weights=ResNet18_Weights.IMAGENET1K_V1`. You can also use `weights=ResNet18_Weights.DEFAULT` to get the most up-to-date weights.\n",
      "  warnings.warn(msg)\n"
     ]
    },
    {
     "name": "stdout",
     "output_type": "stream",
     "text": [
      "y_batch tensor([417, 308, 490, 474, 394, 490, 538, 538, 856, 857,  13, 308, 394, 856,\n",
      "        470, 856,  13])\n"
     ]
    }
   ],
   "source": [
    "# Load pre-trained ResNet18 model.\n",
    "model = torchvision.models.resnet18(pretrained=True)\n",
    "model = model.to(device)\n",
    "with torch.no_grad():\n",
    "    model.eval()\n",
    "    y_batch = model(x_batch).argmax(-1)\n",
    "    y_batch = model(x_batch).argmax(-1)\n",
    "    print('y_batch', y_batch)"
   ]
  },
  {
   "cell_type": "code",
   "execution_count": 7,
   "metadata": {
    "id": "gNxAtc2Co1pL"
   },
   "outputs": [],
   "source": [
    "from captum.attr import IntegratedGradients\n",
    "\n",
    "# Generate Integrated Gradients attributions of the first batch of the test set.\n",
    "ig = IntegratedGradients(model)\n",
    "a_batch, conv_delta = ig.attribute(x_batch, target=y_batch, baselines=torch.zeros_like(x_batch), internal_batch_size=64, return_convergence_delta=True)"
   ]
  },
  {
   "cell_type": "code",
   "execution_count": 17,
   "metadata": {},
   "outputs": [
    {
     "name": "stdout",
     "output_type": "stream",
     "text": [
      "Completeness scores per example: tensor([0.0626, 0.4576, 0.7652, 0.2514, 0.1281, 0.4750, 0.2360, 0.2140, 0.3280,\n",
      "        0.0425, 0.6893, 0.3767, 0.3821, 0.4633, 0.0433, 0.2283, 0.2158],\n",
      "       dtype=torch.float64)\n"
     ]
    }
   ],
   "source": [
    "from torchxai.metrics import completeness\n",
    "\n",
    "# Compute completeness score.\n",
    "completeness_scores = completeness(model, x_batch, a_batch, baselines=torch.zeros_like(x_batch), target=y_batch)\n",
    "\n",
    "# check if the convergence delta and completeness are close, essentially they should be the same.\n",
    "torch.allclose(completeness_scores.abs(), conv_delta.abs())\n",
    "\n",
    "print(f\"Completeness scores per example: {completeness_scores}\")"
   ]
  },
  {
   "cell_type": "code",
   "execution_count": 18,
   "metadata": {},
   "outputs": [],
   "source": [
    "# x = torch.arange(16).reshape(4,4).repeat_interleave(4, dim=0).repeat_interleave(4, dim=1).float()\n",
    "def create_feature_masks(attributions: torch.Tensor, k:int = 16) -> torch.Tensor:\n",
    "    feature_masks = []\n",
    "    for attribution in attributions:\n",
    "        dim_x, dim_y = attribution.shape[1] // k, attribution.shape[2] // k\n",
    "        mask = torch.arange(dim_x*dim_y).view((dim_x, dim_y)).repeat_interleave(k, dim=0).repeat_interleave(k, dim=1).long()\n",
    "        feature_masks.append(mask)\n",
    "    return torch.stack(feature_masks).view_as(attributions)\n"
   ]
  },
  {
   "cell_type": "code",
   "execution_count": 21,
   "metadata": {},
   "outputs": [],
   "source": [
    "from torchxai.metrics import monotonicity_corr_and_non_sens\n",
    "x_batch, a_batch, y_batch = x_batch[:2], a_batch[:2], y_batch[:2]\n",
    "\n",
    "# Only compute for the first two examples as this is very compute intensive for large input size of 1 x 224 x 224\n",
    "# the channel dimension is perturbed together\n",
    "a_batch_reduced = a_batch.sum(dim=1).unsqueeze(1)\n",
    "\n",
    "# total number of computations for this include batch_size * 224 * 224 * 1 * 10 = batch_size * 501760 number of forward passes\n",
    "# with max_features_processed_per_batch = 512, the number of forward passes is reduced to batch_size * 224 * 224 * 1 * 2 = batch_size * 100352\n",
    "# to reduce the computations we can provide a feature mask to group the input features together\n",
    "# the feature mask must be of the same shape as the attribution map\n",
    "feature_mask = create_feature_masks(a_batch_reduced, k=16)\n",
    "\n",
    "monotonicity_corr, non_sens_scores = monotonicity_corr_and_non_sens(model, x_batch, a_batch_reduced, feature_mask=feature_mask, target=y_batch, max_features_processed_per_batch=64)\n",
    "\n",
    "print(f\"Monotonicity correlation: {monotonicity_corr}\")\n",
    "print(f\"Non-sensitivity scores: {non_sens_scores}\")"
   ]
  }
 ],
 "metadata": {
  "accelerator": "GPU",
  "colab": {
   "collapsed_sections": [],
   "machine_shape": "hm",
   "provenance": [],
   "toc_visible": true
  },
  "gpuClass": "standard",
  "kernelspec": {
   "display_name": "Python 3 (ipykernel)",
   "language": "python",
   "name": "python3"
  },
  "language_info": {
   "codemirror_mode": {
    "name": "ipython",
    "version": 3
   },
   "file_extension": ".py",
   "mimetype": "text/x-python",
   "name": "python",
   "nbconvert_exporter": "python",
   "pygments_lexer": "ipython3",
   "version": "3.10.12"
  },
  "widgets": {
   "application/vnd.jupyter.widget-state+json": {
    "202e87c666e846398d64b89a9c16ff45": {
     "model_module": "@jupyter-widgets/controls",
     "model_module_version": "1.5.0",
     "model_name": "HBoxModel",
     "state": {
      "_dom_classes": [],
      "_model_module": "@jupyter-widgets/controls",
      "_model_module_version": "1.5.0",
      "_model_name": "HBoxModel",
      "_view_count": null,
      "_view_module": "@jupyter-widgets/controls",
      "_view_module_version": "1.5.0",
      "_view_name": "HBoxView",
      "box_style": "",
      "children": [
       "IPY_MODEL_7fca2ae1e0b344b3a52dded546f22f43",
       "IPY_MODEL_8bb29876bedb4cc9b0d23134b1e46767",
       "IPY_MODEL_2f651b4eb3d54f81875175de1b439006"
      ],
      "layout": "IPY_MODEL_8f2f32097c5340d59b3e1a24403c5885"
     }
    },
    "2f651b4eb3d54f81875175de1b439006": {
     "model_module": "@jupyter-widgets/controls",
     "model_module_version": "1.5.0",
     "model_name": "HTMLModel",
     "state": {
      "_dom_classes": [],
      "_model_module": "@jupyter-widgets/controls",
      "_model_module_version": "1.5.0",
      "_model_name": "HTMLModel",
      "_view_count": null,
      "_view_module": "@jupyter-widgets/controls",
      "_view_module_version": "1.5.0",
      "_view_name": "HTMLView",
      "description": "",
      "description_tooltip": null,
      "layout": "IPY_MODEL_56a32edb2f594c77ad9c697edb1eb3fd",
      "placeholder": "​",
      "style": "IPY_MODEL_4856cb2fe2c844ac814a15cddfeb758e",
      "value": " 19/19 [02:33&lt;00:00,  8.04s/it]"
     }
    },
    "4856cb2fe2c844ac814a15cddfeb758e": {
     "model_module": "@jupyter-widgets/controls",
     "model_module_version": "1.5.0",
     "model_name": "DescriptionStyleModel",
     "state": {
      "_model_module": "@jupyter-widgets/controls",
      "_model_module_version": "1.5.0",
      "_model_name": "DescriptionStyleModel",
      "_view_count": null,
      "_view_module": "@jupyter-widgets/base",
      "_view_module_version": "1.2.0",
      "_view_name": "StyleView",
      "description_width": ""
     }
    },
    "56a32edb2f594c77ad9c697edb1eb3fd": {
     "model_module": "@jupyter-widgets/base",
     "model_module_version": "1.2.0",
     "model_name": "LayoutModel",
     "state": {
      "_model_module": "@jupyter-widgets/base",
      "_model_module_version": "1.2.0",
      "_model_name": "LayoutModel",
      "_view_count": null,
      "_view_module": "@jupyter-widgets/base",
      "_view_module_version": "1.2.0",
      "_view_name": "LayoutView",
      "align_content": null,
      "align_items": null,
      "align_self": null,
      "border": null,
      "bottom": null,
      "display": null,
      "flex": null,
      "flex_flow": null,
      "grid_area": null,
      "grid_auto_columns": null,
      "grid_auto_flow": null,
      "grid_auto_rows": null,
      "grid_column": null,
      "grid_gap": null,
      "grid_row": null,
      "grid_template_areas": null,
      "grid_template_columns": null,
      "grid_template_rows": null,
      "height": null,
      "justify_content": null,
      "justify_items": null,
      "left": null,
      "margin": null,
      "max_height": null,
      "max_width": null,
      "min_height": null,
      "min_width": null,
      "object_fit": null,
      "object_position": null,
      "order": null,
      "overflow": null,
      "overflow_x": null,
      "overflow_y": null,
      "padding": null,
      "right": null,
      "top": null,
      "visibility": null,
      "width": null
     }
    },
    "7fca2ae1e0b344b3a52dded546f22f43": {
     "model_module": "@jupyter-widgets/controls",
     "model_module_version": "1.5.0",
     "model_name": "HTMLModel",
     "state": {
      "_dom_classes": [],
      "_model_module": "@jupyter-widgets/controls",
      "_model_module_version": "1.5.0",
      "_model_name": "HTMLModel",
      "_view_count": null,
      "_view_module": "@jupyter-widgets/controls",
      "_view_module_version": "1.5.0",
      "_view_name": "HTMLView",
      "description": "",
      "description_tooltip": null,
      "layout": "IPY_MODEL_a3f344f4af8e42ef8d0e1b301d0194db",
      "placeholder": "​",
      "style": "IPY_MODEL_b65de9bef1614c8eb56145197835f42a",
      "value": "Evaluating Infidelity: 100%"
     }
    },
    "8bb29876bedb4cc9b0d23134b1e46767": {
     "model_module": "@jupyter-widgets/controls",
     "model_module_version": "1.5.0",
     "model_name": "FloatProgressModel",
     "state": {
      "_dom_classes": [],
      "_model_module": "@jupyter-widgets/controls",
      "_model_module_version": "1.5.0",
      "_model_name": "FloatProgressModel",
      "_view_count": null,
      "_view_module": "@jupyter-widgets/controls",
      "_view_module_version": "1.5.0",
      "_view_name": "ProgressView",
      "bar_style": "success",
      "description": "",
      "description_tooltip": null,
      "layout": "IPY_MODEL_e559028c13234ad9ae0d01a64e796d6c",
      "max": 19,
      "min": 0,
      "orientation": "horizontal",
      "style": "IPY_MODEL_97e6119596884d0781885bcc70c5e481",
      "value": 19
     }
    },
    "8f2f32097c5340d59b3e1a24403c5885": {
     "model_module": "@jupyter-widgets/base",
     "model_module_version": "1.2.0",
     "model_name": "LayoutModel",
     "state": {
      "_model_module": "@jupyter-widgets/base",
      "_model_module_version": "1.2.0",
      "_model_name": "LayoutModel",
      "_view_count": null,
      "_view_module": "@jupyter-widgets/base",
      "_view_module_version": "1.2.0",
      "_view_name": "LayoutView",
      "align_content": null,
      "align_items": null,
      "align_self": null,
      "border": null,
      "bottom": null,
      "display": null,
      "flex": null,
      "flex_flow": null,
      "grid_area": null,
      "grid_auto_columns": null,
      "grid_auto_flow": null,
      "grid_auto_rows": null,
      "grid_column": null,
      "grid_gap": null,
      "grid_row": null,
      "grid_template_areas": null,
      "grid_template_columns": null,
      "grid_template_rows": null,
      "height": null,
      "justify_content": null,
      "justify_items": null,
      "left": null,
      "margin": null,
      "max_height": null,
      "max_width": null,
      "min_height": null,
      "min_width": null,
      "object_fit": null,
      "object_position": null,
      "order": null,
      "overflow": null,
      "overflow_x": null,
      "overflow_y": null,
      "padding": null,
      "right": null,
      "top": null,
      "visibility": null,
      "width": null
     }
    },
    "97e6119596884d0781885bcc70c5e481": {
     "model_module": "@jupyter-widgets/controls",
     "model_module_version": "1.5.0",
     "model_name": "ProgressStyleModel",
     "state": {
      "_model_module": "@jupyter-widgets/controls",
      "_model_module_version": "1.5.0",
      "_model_name": "ProgressStyleModel",
      "_view_count": null,
      "_view_module": "@jupyter-widgets/base",
      "_view_module_version": "1.2.0",
      "_view_name": "StyleView",
      "bar_color": null,
      "description_width": ""
     }
    },
    "a3f344f4af8e42ef8d0e1b301d0194db": {
     "model_module": "@jupyter-widgets/base",
     "model_module_version": "1.2.0",
     "model_name": "LayoutModel",
     "state": {
      "_model_module": "@jupyter-widgets/base",
      "_model_module_version": "1.2.0",
      "_model_name": "LayoutModel",
      "_view_count": null,
      "_view_module": "@jupyter-widgets/base",
      "_view_module_version": "1.2.0",
      "_view_name": "LayoutView",
      "align_content": null,
      "align_items": null,
      "align_self": null,
      "border": null,
      "bottom": null,
      "display": null,
      "flex": null,
      "flex_flow": null,
      "grid_area": null,
      "grid_auto_columns": null,
      "grid_auto_flow": null,
      "grid_auto_rows": null,
      "grid_column": null,
      "grid_gap": null,
      "grid_row": null,
      "grid_template_areas": null,
      "grid_template_columns": null,
      "grid_template_rows": null,
      "height": null,
      "justify_content": null,
      "justify_items": null,
      "left": null,
      "margin": null,
      "max_height": null,
      "max_width": null,
      "min_height": null,
      "min_width": null,
      "object_fit": null,
      "object_position": null,
      "order": null,
      "overflow": null,
      "overflow_x": null,
      "overflow_y": null,
      "padding": null,
      "right": null,
      "top": null,
      "visibility": null,
      "width": null
     }
    },
    "b65de9bef1614c8eb56145197835f42a": {
     "model_module": "@jupyter-widgets/controls",
     "model_module_version": "1.5.0",
     "model_name": "DescriptionStyleModel",
     "state": {
      "_model_module": "@jupyter-widgets/controls",
      "_model_module_version": "1.5.0",
      "_model_name": "DescriptionStyleModel",
      "_view_count": null,
      "_view_module": "@jupyter-widgets/base",
      "_view_module_version": "1.2.0",
      "_view_name": "StyleView",
      "description_width": ""
     }
    },
    "e559028c13234ad9ae0d01a64e796d6c": {
     "model_module": "@jupyter-widgets/base",
     "model_module_version": "1.2.0",
     "model_name": "LayoutModel",
     "state": {
      "_model_module": "@jupyter-widgets/base",
      "_model_module_version": "1.2.0",
      "_model_name": "LayoutModel",
      "_view_count": null,
      "_view_module": "@jupyter-widgets/base",
      "_view_module_version": "1.2.0",
      "_view_name": "LayoutView",
      "align_content": null,
      "align_items": null,
      "align_self": null,
      "border": null,
      "bottom": null,
      "display": null,
      "flex": null,
      "flex_flow": null,
      "grid_area": null,
      "grid_auto_columns": null,
      "grid_auto_flow": null,
      "grid_auto_rows": null,
      "grid_column": null,
      "grid_gap": null,
      "grid_row": null,
      "grid_template_areas": null,
      "grid_template_columns": null,
      "grid_template_rows": null,
      "height": null,
      "justify_content": null,
      "justify_items": null,
      "left": null,
      "margin": null,
      "max_height": null,
      "max_width": null,
      "min_height": null,
      "min_width": null,
      "object_fit": null,
      "object_position": null,
      "order": null,
      "overflow": null,
      "overflow_x": null,
      "overflow_y": null,
      "padding": null,
      "right": null,
      "top": null,
      "visibility": null,
      "width": null
     }
    }
   }
  }
 },
 "nbformat": 4,
 "nbformat_minor": 1
}
